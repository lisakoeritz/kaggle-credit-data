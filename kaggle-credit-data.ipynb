{
 "cells": [
  {
   "cell_type": "markdown",
   "metadata": {},
   "source": [
    "## Kaggle Credit Data Project\n",
    "\n",
    "Learning goals:   \n",
    "- Using ipython notebook for documentation and data exploration.\n",
    "- Become familar with explorative data analysis with pandas.\n",
    "- Data cleansing (detecting outliers etc.)\n",
    "- Training and predictions \n",
    "\n",
    "### Explorative Data Analyis and Data Cleansing"
   ]
  },
  {
   "cell_type": "markdown",
   "metadata": {},
   "source": [
    "#### Description of the variables\n",
    "\n",
    "*Nominal*\n",
    "- Target Variable `SeriousDlqin2yrs` [Y/N]: Person experienced 90 days past due delinquency or worse. \n",
    "\n",
    "Features: \n",
    "\n",
    "*Ordinal*\n",
    "- `RevolvingUtilizationOfUnsecuredLines` [percentage]: Total balance on credit cards and personal lines of credit except real estate and no installment debt like car loans divided by the sum of credit limits.\n",
    "- `NumberOfTime30-59DaysPastDueNotWorse` [integer]: Number of times borrower has been 30-59 days past due but no worse in the last 2 years.\n",
    "- `NumberOfOpenCreditLinesAndLoans` [integer]: Number of Open loans (installment like car loan or mortgage) and Lines of credit (e.g. credit cards)\n",
    "- `NumberOfTimes90DaysLate` [integer]: Number of times borrower has been 90 days or more past due.\n",
    "- `NumberRealEstateLoansOrLines` [integer]: Number of mortgage and real estate loans including home equity lines of credit\n",
    "- `NumberOfTime60-89DaysPastDueNotWorse` [integer]: Number of times borrower has been 60-89 days past due but no worse in the last 2 years.\n",
    "- `NumberOfDependents` [integer]: Number of dependents in family excluding themselves (spouse, children etc.)\n",
    "\n",
    "*Ratio*\n",
    "- `DebtRatio` [percentage]: Monthly debt payments, alimony,living costs divided by monthy gross income\n",
    "- `age` [integer]: Age of borrower in years; \n",
    "- `MonthlyIncome` [real]: Monthly income"
   ]
  },
  {
   "cell_type": "markdown",
   "metadata": {},
   "source": [
    "**Import of libraries and establish easily accessible column names**"
   ]
  },
  {
   "cell_type": "code",
   "execution_count": 2,
   "metadata": {
    "collapsed": false
   },
   "outputs": [],
   "source": [
    "import numpy as np\n",
    "import pandas as pd\n",
    "import seaborn as sns\n",
    "import collections\n",
    "%matplotlib inline\n",
    "import matplotlib.pyplot as plt\n",
    "\n",
    "# read the data into a pandas data frame\n",
    "df = pd.read_csv('./cs-training.csv')\n",
    "del df['Unnamed: 0']\n",
    "\n",
    "cleanColumns = []\n",
    "for i in range (len(df.columns)):\n",
    "    cleanColumns.append(df.columns[i].replace('-',''))\n",
    "\n",
    "df.columns = cleanColumns"
   ]
  },
  {
   "cell_type": "markdown",
   "metadata": {},
   "source": [
    "**Have a look at the data**"
   ]
  },
  {
   "cell_type": "code",
   "execution_count": 3,
   "metadata": {
    "collapsed": false
   },
   "outputs": [],
   "source": [
    "#print(df.describe())"
   ]
  },
  {
   "cell_type": "markdown",
   "metadata": {},
   "source": [
    "### Replacement of NaN Values"
   ]
  },
  {
   "cell_type": "code",
   "execution_count": 4,
   "metadata": {
    "collapsed": false,
    "scrolled": false
   },
   "outputs": [],
   "source": [
    "from sklearn.preprocessing import Imputer\n",
    "imp = Imputer(missing_values='NaN', strategy='mean', axis=0, copy=False)\n",
    "df.MonthlyIncome = imp.fit_transform(df.MonthlyIncome.reshape(-1, 1))\n",
    "df.NumberOfDependents = imp.fit_transform(df.NumberOfDependents.reshape(-1, 1))\n",
    "#print(df.head(20)) # check if it worked"
   ]
  },
  {
   "cell_type": "markdown",
   "metadata": {},
   "source": [
    "### Outlier detection and replacement"
   ]
  },
  {
   "cell_type": "code",
   "execution_count": 4,
   "metadata": {
    "collapsed": true
   },
   "outputs": [],
   "source": [
    "# use 95%-Quantil / slow method\n",
    "def compute_percentile_outliers(x, threshold=95):\n",
    "    diff = (100 - threshold) / 2.0\n",
    "    minval, maxval = np.percentile(x, [diff, 100 - diff])\n",
    "    print(minval, maxval)\n",
    "    return (x < minval) | (x > maxval) #return boolean array with all outliers marked true"
   ]
  },
  {
   "cell_type": "code",
   "execution_count": 5,
   "metadata": {
    "collapsed": true
   },
   "outputs": [],
   "source": [
    "#replace all marked outliers with the median of the column (vote=outliers)\n",
    "def replace_outliers_median(vote, data):\n",
    "    x = pd.DataFrame(list(zip(data, vote)), columns=['data', 'outlier'])\n",
    "    replace = x.data.median()\n",
    "    debtNew = []\n",
    "    for i in range(x.shape[0]):\n",
    "        if x.iloc[i][1] == True:\n",
    "            debtNew.append(replace) #append median\n",
    "        else:\n",
    "            debtNew.append(x.iloc[i][0]) #append belonging data\n",
    "    return debtNew"
   ]
  },
  {
   "cell_type": "code",
   "execution_count": 6,
   "metadata": {
    "collapsed": false
   },
   "outputs": [
    {
     "name": "stdout",
     "output_type": "stream",
     "text": [
      "0.0 0.9999999\n"
     ]
    },
    {
     "data": {
      "text/plain": [
       "<matplotlib.text.Text at 0x1156657f0>"
      ]
     },
     "execution_count": 6,
     "metadata": {},
     "output_type": "execute_result"
    },
    {
     "data": {
      "image/png": "[encoded data removed]",
      "text/plain": [
       "<matplotlib.figure.Figure at 0x1159e0710>"
      ]
     },
     "metadata": {},
     "output_type": "display_data"
    }
   ],
   "source": [
    "#fix outliers in revolving utilization of unsecured lines\n",
    "fig = plt.figure(figsize=(6,6))\n",
    "ax = fig.add_subplot(111)\n",
    "rev_outliers = compute_percentile_outliers(df.RevolvingUtilizationOfUnsecuredLines)\n",
    "x = replace_outliers_median(rev_outliers,df.RevolvingUtilizationOfUnsecuredLines)\n",
    "ax.hist(x, bins = 15)\n",
    "ax.set_title('Balance on credit cards and personal lines of credit')\n",
    "ax.set_xlabel('Percent')"
   ]
  },
  {
   "cell_type": "code",
   "execution_count": null,
   "metadata": {
    "collapsed": false
   },
   "outputs": [],
   "source": [
    "#try seaborn for visualization\n",
    "#fig, axes = plt.subplots(nrows=1)\n",
    "#sns.distplot(x, ax=axes, rug=True)"
   ]
  },
  {
   "cell_type": "code",
   "execution_count": 7,
   "metadata": {
    "collapsed": false
   },
   "outputs": [
    {
     "data": {
      "text/plain": [
       "<matplotlib.text.Text at 0x115978470>"
      ]
     },
     "execution_count": 7,
     "metadata": {},
     "output_type": "execute_result"
    },
    {
     "data": {
      "image/png": "[encoded data removed]",
      "text/plain": [
       "<matplotlib.figure.Figure at 0x11609ecc0>"
      ]
     },
     "metadata": {},
     "output_type": "display_data"
    }
   ],
   "source": [
    "ax = df.age.plot.box()\n",
    "ax.set_title('Age distribution')"
   ]
  },
  {
   "cell_type": "code",
   "execution_count": 8,
   "metadata": {
    "collapsed": false
   },
   "outputs": [
    {
     "data": {
      "text/plain": [
       "<matplotlib.text.Text at 0x117807cf8>"
      ]
     },
     "execution_count": 8,
     "metadata": {},
     "output_type": "execute_result"
    },
    {
     "data": {
      "image/png": "[encoded data removed]",
      "text/plain": [
       "<matplotlib.figure.Figure at 0x115963d30>"
      ]
     },
     "metadata": {},
     "output_type": "display_data"
    }
   ],
   "source": [
    "#outliers of 95 and 98 for all past due times\n",
    "fig = plt.figure(figsize=(6,6))\n",
    "ax = fig.add_subplot(111)\n",
    "df.loc[df['NumberOfTime3059DaysPastDueNotWorse'] > 95,'NumberOfTime3059DaysPastDueNotWorse'] = df.NumberOfTime3059DaysPastDueNotWorse.median()\n",
    "df3 = df.NumberOfTime3059DaysPastDueNotWorse\n",
    "ax.hist(df3, bins = 15, range = (df3.min(), df3.max()))\n",
    "ax.set_title('Number Of Times 30-59 Days Past Due')\n",
    "ax.set_xlabel('frequency')"
   ]
  },
  {
   "cell_type": "code",
   "execution_count": 9,
   "metadata": {
    "collapsed": false
   },
   "outputs": [
    {
     "data": {
      "text/plain": [
       "<matplotlib.text.Text at 0x116dfc4e0>"
      ]
     },
     "execution_count": 9,
     "metadata": {},
     "output_type": "execute_result"
    },
    {
     "data": {
      "image/png": "[encoded data removed]",
      "text/plain": [
       "<matplotlib.figure.Figure at 0x116e06ef0>"
      ]
     },
     "metadata": {},
     "output_type": "display_data"
    }
   ],
   "source": [
    "fig = plt.figure(figsize=(6,6))\n",
    "ax = fig.add_subplot(111)\n",
    "df.loc[df.NumberOfTimes90DaysLate > 95,'NumberOfTimes90DaysLate'] = df.NumberOfTimes90DaysLate.median()\n",
    "df4 = df.NumberOfTimes90DaysLate\n",
    "ax.hist(df4, bins = 15, range = (df4.min(), df4.max()))\n",
    "ax.set_title('Number Of Times 90 Days Late')\n",
    "ax.set_xlabel('frequency')"
   ]
  },
  {
   "cell_type": "code",
   "execution_count": 10,
   "metadata": {
    "collapsed": false,
    "scrolled": false
   },
   "outputs": [
    {
     "data": {
      "text/plain": [
       "<matplotlib.text.Text at 0x116d89cc0>"
      ]
     },
     "execution_count": 10,
     "metadata": {},
     "output_type": "execute_result"
    },
    {
     "data": {
      "image/png": "[encoded data removed]",
      "text/plain": [
       "<matplotlib.figure.Figure at 0x116e47fd0>"
      ]
     },
     "metadata": {},
     "output_type": "display_data"
    }
   ],
   "source": [
    "fig = plt.figure(figsize=(6,6))\n",
    "ax = fig.add_subplot(111)\n",
    "df.loc[df.NumberOfTime6089DaysPastDueNotWorse > 95,'NumberOfTime6089DaysPastDueNotWorse'] = df.NumberOfTime6089DaysPastDueNotWorse.median()\n",
    "df6 = df.NumberOfTime6089DaysPastDueNotWorse\n",
    "ax.hist(df6, bins = 15, range = (df6.min(), df6.max()))\n",
    "ax.set_title('Number Of Times 60-89 Days Past Due')\n",
    "ax.set_xlabel('frequency')"
   ]
  },
  {
   "cell_type": "code",
   "execution_count": 11,
   "metadata": {
    "collapsed": false
   },
   "outputs": [
    {
     "name": "stdout",
     "output_type": "stream",
     "text": [
      "0.0 3489.025\n"
     ]
    },
    {
     "data": {
      "text/plain": [
       "<matplotlib.text.Text at 0x117754048>"
      ]
     },
     "execution_count": 11,
     "metadata": {},
     "output_type": "execute_result"
    },
    {
     "data": {
      "image/png": "[encoded data removed]",
      "text/plain": [
       "<matplotlib.figure.Figure at 0x116dcd438>"
      ]
     },
     "metadata": {},
     "output_type": "display_data"
    }
   ],
   "source": [
    "fig = plt.figure(figsize=(6,6))\n",
    "ax = fig.add_subplot(111)\n",
    "minUpperBound = min([val for (val, out) in zip(df.DebtRatio, compute_percentile_outliers(df.DebtRatio)) if out == True])\n",
    "df.loc[df.DebtRatio > minUpperBound,'DebtRatio'] = minUpperBound\n",
    "dR = df.DebtRatio\n",
    "ax.hist(dR, bins = 15, range = (dR.min(), dR.max()))\n",
    "ax.set_title('Debt Ratio')\n",
    "ax.set_xlabel('amount')"
   ]
  },
  {
   "cell_type": "code",
   "execution_count": 12,
   "metadata": {
    "collapsed": false,
    "scrolled": false
   },
   "outputs": [
    {
     "name": "stdout",
     "output_type": "stream",
     "text": [
      "820.0 16866.0\n"
     ]
    },
    {
     "data": {
      "text/plain": [
       "<matplotlib.text.Text at 0x1156e1e48>"
      ]
     },
     "execution_count": 12,
     "metadata": {},
     "output_type": "execute_result"
    },
    {
     "data": {
      "image/png": "[encoded data removed]",
      "text/plain": [
       "<matplotlib.figure.Figure at 0x1177f9278>"
      ]
     },
     "metadata": {},
     "output_type": "display_data"
    }
   ],
   "source": [
    "fig = plt.figure(figsize=(6,6))\n",
    "ax = fig.add_subplot(111)\n",
    "outliers = compute_percentile_outliers(df.MonthlyIncome)\n",
    "dfmI = replace_outliers_median(outliers, df.MonthlyIncome)\n",
    "df.MonthlyIncome = dfmI\n",
    "#minUpperBoundMI = min([j for (j, outI) in zip(df.MonthlyIncome, outliers) if outI == True])\n",
    "#print(minUpperBoundMI)\n",
    "#realIncome = []\n",
    "#for i in df.MonthlyIncome:\n",
    "#    if i > minUpperBoundMI:\n",
    "#        realIncome.append(minUpperBoundMI)\n",
    "#    else:\n",
    "#        realIncome.append(i)\n",
    "#df.MonthlyIncome = realIncome\n",
    "ax.hist(df.MonthlyIncome, bins = 15)\n",
    "ax.set_title('Monthly Income')\n",
    "ax.set_xlabel('income')\n",
    "#print(collections.Counter(dfmI))"
   ]
  },
  {
   "cell_type": "code",
   "execution_count": 13,
   "metadata": {
    "collapsed": false
   },
   "outputs": [
    {
     "data": {
      "text/plain": [
       "<matplotlib.text.Text at 0x117796668>"
      ]
     },
     "execution_count": 13,
     "metadata": {},
     "output_type": "execute_result"
    },
    {
     "data": {
      "image/png": "[encoded data removed]",
      "text/plain": [
       "<matplotlib.figure.Figure at 0x1171554e0>"
      ]
     },
     "metadata": {},
     "output_type": "display_data"
    }
   ],
   "source": [
    "fig = plt.figure(figsize=(12,6))\n",
    "ax = fig.add_subplot(121)\n",
    "ax2 = fig.add_subplot(122)\n",
    "loansAndLines = df.NumberRealEstateLoansOrLines\n",
    "#print(collections.Counter(loansAndLines))\n",
    "ax.hist(df.NumberRealEstateLoansOrLines, bins = 15, range = (loansAndLines.min(), loansAndLines.max()))\n",
    "df.loc[df.NumberRealEstateLoansOrLines > 17,'NumberRealEstateLoansOrLines'] = 17\n",
    "ax2.hist(df.NumberRealEstateLoansOrLines, bins = 15, range = (df.NumberRealEstateLoansOrLines.min(), df.NumberRealEstateLoansOrLines.max()))\n",
    "ax.set_title('Reals Estate Loans Or Lines')\n",
    "ax.set_xlabel('amount')\n",
    "# attention to different levels of measurement for each visualization!"
   ]
  },
  {
   "cell_type": "code",
   "execution_count": 14,
   "metadata": {
    "collapsed": false,
    "scrolled": false
   },
   "outputs": [
    {
     "data": {
      "text/plain": [
       "<matplotlib.text.Text at 0x117b33c50>"
      ]
     },
     "execution_count": 14,
     "metadata": {},
     "output_type": "execute_result"
    },
    {
     "data": {
      "image/png": "[encoded data removed]",
      "text/plain": [
       "<matplotlib.figure.Figure at 0x11715cb70>"
      ]
     },
     "metadata": {},
     "output_type": "display_data"
    }
   ],
   "source": [
    "fig = plt.figure(figsize=(6,6))\n",
    "ax = fig.add_subplot(111)\n",
    "dependents = df.NumberOfDependents\n",
    "#print(collections.Counter(dependents))\n",
    "df.loc[dependents > 17,'NumberOfDependents'] = 17\n",
    "ax.hist(dependents, bins = 15, range = (dependents.min(), dependents.max()))\n",
    "ax.set_title('Dependents in Family')\n",
    "ax.set_xlabel('dependents')"
   ]
  },
  {
   "cell_type": "code",
   "execution_count": 15,
   "metadata": {
    "collapsed": false
   },
   "outputs": [
    {
     "data": {
      "text/plain": [
       "<matplotlib.text.Text at 0x117b59e48>"
      ]
     },
     "execution_count": 15,
     "metadata": {},
     "output_type": "execute_result"
    },
    {
     "data": {
      "image/png": "[encoded data removed]",
      "text/plain": [
       "<matplotlib.figure.Figure at 0x11715f588>"
      ]
     },
     "metadata": {},
     "output_type": "display_data"
    }
   ],
   "source": [
    "fig = plt.figure(figsize=(6,6))\n",
    "ax = fig.add_subplot(111)\n",
    "openCredit = df.NumberOfOpenCreditLinesAndLoans\n",
    "#print(collections.Counter(openCredit))\n",
    "ax.hist(openCredit, bins = 15, range = (openCredit.min(), openCredit.max()))\n",
    "ax.set_title('Open Credit Lines And Loans')\n",
    "ax.set_xlabel('number')"
   ]
  },
  {
   "cell_type": "markdown",
   "metadata": {},
   "source": [
    "### correlation between variables"
   ]
  },
  {
   "cell_type": "code",
   "execution_count": 16,
   "metadata": {
    "collapsed": false
   },
   "outputs": [
    {
     "data": {
      "text/plain": [
       "<matplotlib.axes._subplots.AxesSubplot at 0x117bfbc50>"
      ]
     },
     "execution_count": 16,
     "metadata": {},
     "output_type": "execute_result"
    },
    {
     "data": {
      "image/png": "[encoded data removed]",
      "text/plain": [
       "<matplotlib.figure.Figure at 0x116e47cf8>"
      ]
     },
     "metadata": {},
     "output_type": "display_data"
    }
   ],
   "source": [
    "df.boxplot(column='age', by='NumberOfTimes90DaysLate')"
   ]
  },
  {
   "cell_type": "code",
   "execution_count": 117,
   "metadata": {
    "collapsed": false
   },
   "outputs": [
    {
     "data": {
      "text/plain": [
       "<seaborn.axisgrid.JointGrid at 0x1222a7f28>"
      ]
     },
     "execution_count": 117,
     "metadata": {},
     "output_type": "execute_result"
    },
    {
     "data": {
      "image/png": "[encoded data removed]",
      "text/plain": [
       "<matplotlib.figure.Figure at 0x1222a7080>"
      ]
     },
     "metadata": {},
     "output_type": "display_data"
    }
   ],
   "source": [
    "sns.jointplot(\"age\", \"MonthlyIncome\", df, kind='reg')"
   ]
  },
  {
   "cell_type": "code",
   "execution_count": null,
   "metadata": {
    "collapsed": false
   },
   "outputs": [],
   "source": [
    "def correlation_matrix(df):\n",
    "    from matplotlib import pyplot as plt\n",
    "    from matplotlib import cm as cm\n",
    "\n",
    "    fig = plt.figure(figsize=(24,24))\n",
    "    ax1 = fig.add_subplot(111)\n",
    "    cmap = cm.get_cmap('jet', 30)\n",
    "    cax = ax1.imshow(df.corr(), interpolation=\"nearest\", cmap=cmap)\n",
    "    ax1.grid(True)\n",
    "    plt.title('Feature Correlation')\n",
    "    labels=df.columns\n",
    "    ax1.set_xticklabels(labels,fontsize=6)\n",
    "    ax1.set_yticklabels(labels,fontsize=6)\n",
    "    # Add colorbar, make sure to specify tick locations to match desired ticklabels\n",
    "    fig.colorbar(cax, ticks=[.75,.8,.85,.90,.95,1])\n",
    "    plt.show()\n",
    "\n",
    "correlation_matrix(df)"
   ]
  },
  {
   "cell_type": "markdown",
   "metadata": {},
   "source": [
    "### Training of data\n",
    "\n",
    "#### Training and Prediction\n",
    "\n",
    "- Split the data set for training, validation and testing\n",
    "- Training and evaluation (use the `sklearn.metrics.roc_auc_score` metrics.)\n",
    "  - Train a classifier with your logistic regression code (incl. data scaling)\n",
    "    - Plot the appropritate error for different regularization values lambda\n",
    "    - What is the expected performance on new data?\n",
    "  - Use different appropriate algorithms of sklearn and evaluate the results.  "
   ]
  },
  {
   "cell_type": "code",
   "execution_count": 98,
   "metadata": {
    "collapsed": false
   },
   "outputs": [],
   "source": [
    "from sklearn.cross_validation import train_test_split\n",
    "X = df.drop('SeriousDlqin2yrs', axis=1)\n",
    "y = df.SeriousDlqin2yrs\n",
    "X_train, X_test, y_train, y_test = train_test_split(X, y, train_size=0.2, random_state=1)\n",
    "X_train, X_val, y_train, y_val = train_test_split(X_train, y_train, test_size=0.2, random_state=1)"
   ]
  },
  {
   "cell_type": "markdown",
   "metadata": {},
   "source": [
    "##### kNN"
   ]
  },
  {
   "cell_type": "code",
   "execution_count": 99,
   "metadata": {
    "collapsed": false
   },
   "outputs": [
    {
     "name": "stdout",
     "output_type": "stream",
     "text": [
      "0.930749987115\n"
     ]
    },
    {
     "data": {
      "text/plain": [
       "0.93159999999999998"
      ]
     },
     "execution_count": 99,
     "metadata": {},
     "output_type": "execute_result"
    }
   ],
   "source": [
    "from sklearn.neighbors import KNeighborsClassifier\n",
    "from sklearn.cross_validation import cross_val_score\n",
    "from sklearn.metrics import roc_auc_score\n",
    "from sklearn.metrics import accuracy_score\n",
    "from sklearn.cross_validation import train_test_split\n",
    "\n",
    "#only split in test and train, not validation\n",
    "X_knn = df.drop('SeriousDlqin2yrs', axis=1)\n",
    "y_knn = df.SeriousDlqin2yrs\n",
    "X_train_knn, X_test_knn, y_train_knn, y_test_knn = train_test_split(X, y, train_size=0.4, random_state=1)\n",
    "#X_train, X_val, y_train, y_val = train_test_split(X_train, y_train, test_size=0.2, random_state=1)\n",
    "\n",
    "knMod = KNeighborsClassifier(n_neighbors=5)\n",
    "cvScore = cross_val_score(knMod, X_train_knn, y_train_knn, cv=5)\n",
    "print(cvScore.mean())\n",
    "knMod.fit(X_train_knn, y_train_knn)\n",
    "y2_model = knMod.predict(X_test_knn)\n",
    "accuracy_score(y_test_knn, y2_model)"
   ]
  },
  {
   "cell_type": "markdown",
   "metadata": {},
   "source": [
    "##### sklearn Logistic Regression"
   ]
  },
  {
   "cell_type": "code",
   "execution_count": 100,
   "metadata": {
    "collapsed": false
   },
   "outputs": [
    {
     "data": {
      "text/plain": [
       "0.93687499413216135"
      ]
     },
     "execution_count": 100,
     "metadata": {},
     "output_type": "execute_result"
    }
   ],
   "source": [
    "#Regulierungsterm C verwenden!!! \n",
    "\n",
    "from sklearn.linear_model import LogisticRegression\n",
    "logReg = LogisticRegression()\n",
    "cvScore = cross_val_score(logReg, X_train, y_train, cv=3)\n",
    "cvScore.mean()"
   ]
  },
  {
   "cell_type": "code",
   "execution_count": 121,
   "metadata": {
    "collapsed": false
   },
   "outputs": [
    {
     "name": "stdout",
     "output_type": "stream",
     "text": [
      "0.937458333333\n",
      "0.9852083333333334\n"
     ]
    }
   ],
   "source": [
    "regr = LogisticRegression().fit(X_train, y_train)\n",
    "print(str(regr.score(X_train, y_train)))\n",
    "arr = regr.predict(X_train)\n",
    "prob = (len(arr) - np.count_nonzero(arr) ) / len(arr)\n",
    "print(prob)"
   ]
  },
  {
   "cell_type": "code",
   "execution_count": 122,
   "metadata": {
    "collapsed": false
   },
   "outputs": [
    {
     "name": "stdout",
     "output_type": "stream",
     "text": [
      "0.9850916666666667\n"
     ]
    }
   ],
   "source": [
    "arr_test = regr.predict(X_test)\n",
    "prob_test = (len(arr_test) - np.count_nonzero(arr_test) ) / len(arr_test)\n",
    "print(prob_test)"
   ]
  },
  {
   "cell_type": "code",
   "execution_count": 123,
   "metadata": {
    "collapsed": false
   },
   "outputs": [
    {
     "name": "stdout",
     "output_type": "stream",
     "text": [
      "0.9836666666666667\n"
     ]
    }
   ],
   "source": [
    "#regr = LogisticRegression().fit(X_val, y_val)\n",
    "#print(str(regr.score(X_val, y_val)))\n",
    "arr_val = regr.predict(X_val)\n",
    "prob = (len(arr_val) - np.count_nonzero(arr_val) ) / len(arr_val)\n",
    "print(prob)"
   ]
  },
  {
   "cell_type": "markdown",
   "metadata": {},
   "source": [
    "##### Naive Bayes"
   ]
  },
  {
   "cell_type": "code",
   "execution_count": 101,
   "metadata": {
    "collapsed": false
   },
   "outputs": [
    {
     "data": {
      "text/plain": [
       "0.91908333333333336"
      ]
     },
     "execution_count": 101,
     "metadata": {},
     "output_type": "execute_result"
    }
   ],
   "source": [
    "from sklearn.naive_bayes import GaussianNB\n",
    "clf = GaussianNB()\n",
    "model = clf.fit(X_train, y_train)  # GaussianNB itself does not support sample-weights\n",
    "model = clf.predict(X_train)\n",
    "accuracy_score(y_train, model)"
   ]
  },
  {
   "cell_type": "code",
   "execution_count": 102,
   "metadata": {
    "collapsed": false
   },
   "outputs": [
    {
     "data": {
      "text/plain": [
       "0.91749999999999998"
      ]
     },
     "execution_count": 102,
     "metadata": {},
     "output_type": "execute_result"
    }
   ],
   "source": [
    "model = clf.predict(X_test)\n",
    "accuracy_score(y_test, model)"
   ]
  },
  {
   "cell_type": "code",
   "execution_count": 103,
   "metadata": {
    "collapsed": false
   },
   "outputs": [
    {
     "data": {
      "text/plain": [
       "0.91633333333333333"
      ]
     },
     "execution_count": 103,
     "metadata": {},
     "output_type": "execute_result"
    }
   ],
   "source": [
    "model = clf.predict(X_val)\n",
    "accuracy_score(y_val, model)"
   ]
  },
  {
   "cell_type": "markdown",
   "metadata": {
    "collapsed": true
   },
   "source": [
    "##### own logistic regression"
   ]
  },
  {
   "cell_type": "code",
   "execution_count": 114,
   "metadata": {
    "collapsed": true
   },
   "outputs": [],
   "source": [
    "def logistic_hypothesis(theta):\n",
    "    return lambda x: 1 / (1 + np.exp(-x.dot(theta)))\n",
    "\n",
    "def cross_entropy_loss(h, X, y):\n",
    "    return lambda theta: (-y * (np.log(h(X))))-((1-y) * (np.log(1 - h(X))))\n",
    "\n",
    "def reg_cost(loss, lambda_reg, x):\n",
    "    return lambda theta: (loss(theta) + ((lambda_reg / len(x)) * (theta[1:,].T).dot(theta[1:,]))).mean()\n",
    "\n",
    "def reg_gradient_descent(lambda_reg, alpha, theta, nb_iterations, x, y):   \n",
    "    for i in range(nb_iterations):\n",
    "        h = logistic_hypothesis(theta)\n",
    "        loss = cross_entropy_loss(h,x,y)\n",
    "        cost = reg_cost(loss, lambda_reg, x)\n",
    "        grad = np.zeros(theta.shape[0])\n",
    "        for i in range(theta.shape[0]):\n",
    "            if (i == 0):\n",
    "                grad[i] = reg_compute_new_theta(x,y,theta, alpha, h)[i]\n",
    "            else:\n",
    "                grad[i] = reg_compute_new_theta(x,y,theta, alpha, h)[i] + ((lambda_reg / len(x)) * theta[i])\n",
    "        theta = grad\n",
    "  \n",
    "    return theta\n",
    "\n",
    "def feature_scaling(x):\n",
    "    #mean = np.mean(x.loc[:,1:], axis= 0)\n",
    "    #std = np.std(x.loc[:,1:], axis=0)\n",
    "    #fs_x = (x.loc[:,1:] - mean) / std\n",
    "    #x = np.c_[x.loc[:,0],fs_x]\n",
    "    mean = x[:,1:].mean(axis=0)\n",
    "    std = x[:,1:].std(axis=0)\n",
    "    x[:,1:] = (x[:,1:] - mean) / std\n",
    "    return x\n",
    "\n",
    "def reg_compute_new_theta(x, y, theta, alpha, h):\n",
    "    temp = (1./len(x)) * ((h(x)-y).dot(x))\n",
    "    new_theta = theta - alpha/len(x) * temp\n",
    "    return new_theta\n",
    "\n",
    "def classify(X, y, h):\n",
    "    p = np.zeros(shape=(len(X),))\n",
    "    h = h(X)\n",
    "    print (type(h))\n",
    "    p[h>0.5]=1\n",
    "    #for it in range(0, len(h)):\n",
    "    #    if h[it] > 0.5:\n",
    "    #        p[it] = 1\n",
    "    found = np.sum(p == y)\n",
    "    result = ( found / float(y.size)) * 100.0\n",
    "    return (result), p"
   ]
  },
  {
   "cell_type": "code",
   "execution_count": 116,
   "metadata": {
    "collapsed": false,
    "scrolled": true
   },
   "outputs": [
    {
     "name": "stdout",
     "output_type": "stream",
     "text": [
      "<class 'pandas.core.series.Series'>\n",
      "Train Accuracy: 92.475000\n",
      "Roc-Auc-Score: 0.514533183106\n"
     ]
    }
   ],
   "source": [
    "alpha_reg = 0.01\n",
    "theta_reg = np.array([1,0,0,0,0,0,0,0,0,0])\n",
    "#x_train = feature_scaling(X_train)\n",
    "theta_reg = reg_gradient_descent(1, alpha_reg, theta_reg, 100, X_train, y_train)\n",
    "#print(theta_reg)\n",
    "result, c_error = classify(X_train,y_train,logistic_hypothesis(theta_reg))\n",
    "print('Train Accuracy: %f' % result)\n",
    "#print(y_train, c_error)\n",
    "score = roc_auc_score(y_train, c_error)\n",
    "print(\"Roc-Auc-Score: \" + str(score))"
   ]
  }
 ],
 "metadata": {
  "anaconda-cloud": {},
  "kernelspec": {
   "display_name": "Python [conda root]",
   "language": "python",
   "name": "conda-root-py"
  },
  "language_info": {
   "codemirror_mode": {
    "name": "ipython",
    "version": 3
   },
   "file_extension": ".py",
   "mimetype": "text/x-python",
   "name": "python",
   "nbconvert_exporter": "python",
   "pygments_lexer": "ipython3",
   "version": "3.5.2"
  }
 },
 "nbformat": 4,
 "nbformat_minor": 0
}
